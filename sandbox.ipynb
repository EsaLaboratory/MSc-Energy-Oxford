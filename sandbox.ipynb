{
 "cells": [
  {
   "cell_type": "code",
   "execution_count": 2,
   "metadata": {},
   "outputs": [],
   "source": [
    "import numpy as np\n",
    "import pandas as pd\n",
    "import time"
   ]
  },
  {
   "cell_type": "code",
   "execution_count": 56,
   "metadata": {},
   "outputs": [],
   "source": [
    "def DM_high(frequency):\n",
    "    if frequency<50.015:\n",
    "        return 0\n",
    "    elif frequency<50.1:\n",
    "        return ((frequency-50.015)/0.085)*0.05\n",
    "    elif frequency<50.2:\n",
    "        return 0.05+((frequency-50.1)/0.1)*0.95\n",
    "    else:\n",
    "        return 1"
   ]
  },
  {
   "cell_type": "code",
   "execution_count": 62,
   "metadata": {},
   "outputs": [
    {
     "data": {
      "text/html": [
       "<div>\n",
       "<style scoped>\n",
       "    .dataframe tbody tr th:only-of-type {\n",
       "        vertical-align: middle;\n",
       "    }\n",
       "\n",
       "    .dataframe tbody tr th {\n",
       "        vertical-align: top;\n",
       "    }\n",
       "\n",
       "    .dataframe thead th {\n",
       "        text-align: right;\n",
       "    }\n",
       "</style>\n",
       "<table border=\"1\" class=\"dataframe\">\n",
       "  <thead>\n",
       "    <tr style=\"text-align: right;\">\n",
       "      <th></th>\n",
       "      <th>dtm</th>\n",
       "      <th>f</th>\n",
       "      <th>DR High %</th>\n",
       "      <th>DR Low %</th>\n",
       "      <th>DM High %</th>\n",
       "    </tr>\n",
       "  </thead>\n",
       "  <tbody>\n",
       "    <tr>\n",
       "      <th>0</th>\n",
       "      <td>2024-04-01 00:00:00</td>\n",
       "      <td>50.099</td>\n",
       "      <td>0.423174</td>\n",
       "      <td>-0.0</td>\n",
       "      <td>0.049412</td>\n",
       "    </tr>\n",
       "    <tr>\n",
       "      <th>1</th>\n",
       "      <td>2024-04-01 00:00:01</td>\n",
       "      <td>50.089</td>\n",
       "      <td>0.372796</td>\n",
       "      <td>-0.0</td>\n",
       "      <td>0.043529</td>\n",
       "    </tr>\n",
       "    <tr>\n",
       "      <th>2</th>\n",
       "      <td>2024-04-01 00:00:02</td>\n",
       "      <td>50.074</td>\n",
       "      <td>0.297229</td>\n",
       "      <td>-0.0</td>\n",
       "      <td>0.034706</td>\n",
       "    </tr>\n",
       "    <tr>\n",
       "      <th>3</th>\n",
       "      <td>2024-04-01 00:00:03</td>\n",
       "      <td>50.062</td>\n",
       "      <td>0.236776</td>\n",
       "      <td>-0.0</td>\n",
       "      <td>0.027647</td>\n",
       "    </tr>\n",
       "    <tr>\n",
       "      <th>4</th>\n",
       "      <td>2024-04-01 00:00:04</td>\n",
       "      <td>50.054</td>\n",
       "      <td>0.196474</td>\n",
       "      <td>-0.0</td>\n",
       "      <td>0.022941</td>\n",
       "    </tr>\n",
       "    <tr>\n",
       "      <th>...</th>\n",
       "      <td>...</td>\n",
       "      <td>...</td>\n",
       "      <td>...</td>\n",
       "      <td>...</td>\n",
       "      <td>...</td>\n",
       "    </tr>\n",
       "    <tr>\n",
       "      <th>2591995</th>\n",
       "      <td>2024-04-30 23:59:55</td>\n",
       "      <td>50.032</td>\n",
       "      <td>0.085642</td>\n",
       "      <td>-0.0</td>\n",
       "      <td>0.010000</td>\n",
       "    </tr>\n",
       "    <tr>\n",
       "      <th>2591996</th>\n",
       "      <td>2024-04-30 23:59:56</td>\n",
       "      <td>50.034</td>\n",
       "      <td>0.095718</td>\n",
       "      <td>-0.0</td>\n",
       "      <td>0.011176</td>\n",
       "    </tr>\n",
       "    <tr>\n",
       "      <th>2591997</th>\n",
       "      <td>2024-04-30 23:59:57</td>\n",
       "      <td>50.032</td>\n",
       "      <td>0.085642</td>\n",
       "      <td>-0.0</td>\n",
       "      <td>0.010000</td>\n",
       "    </tr>\n",
       "    <tr>\n",
       "      <th>2591998</th>\n",
       "      <td>2024-04-30 23:59:58</td>\n",
       "      <td>50.032</td>\n",
       "      <td>0.085642</td>\n",
       "      <td>-0.0</td>\n",
       "      <td>0.010000</td>\n",
       "    </tr>\n",
       "    <tr>\n",
       "      <th>2591999</th>\n",
       "      <td>2024-04-30 23:59:59</td>\n",
       "      <td>50.035</td>\n",
       "      <td>0.100756</td>\n",
       "      <td>-0.0</td>\n",
       "      <td>0.011765</td>\n",
       "    </tr>\n",
       "  </tbody>\n",
       "</table>\n",
       "<p>2592000 rows × 5 columns</p>\n",
       "</div>"
      ],
      "text/plain": [
       "                         dtm       f  DR High %  DR Low %  DM High %\n",
       "0        2024-04-01 00:00:00  50.099   0.423174      -0.0   0.049412\n",
       "1        2024-04-01 00:00:01  50.089   0.372796      -0.0   0.043529\n",
       "2        2024-04-01 00:00:02  50.074   0.297229      -0.0   0.034706\n",
       "3        2024-04-01 00:00:03  50.062   0.236776      -0.0   0.027647\n",
       "4        2024-04-01 00:00:04  50.054   0.196474      -0.0   0.022941\n",
       "...                      ...     ...        ...       ...        ...\n",
       "2591995  2024-04-30 23:59:55  50.032   0.085642      -0.0   0.010000\n",
       "2591996  2024-04-30 23:59:56  50.034   0.095718      -0.0   0.011176\n",
       "2591997  2024-04-30 23:59:57  50.032   0.085642      -0.0   0.010000\n",
       "2591998  2024-04-30 23:59:58  50.032   0.085642      -0.0   0.010000\n",
       "2591999  2024-04-30 23:59:59  50.035   0.100756      -0.0   0.011765\n",
       "\n",
       "[2592000 rows x 5 columns]"
      ]
     },
     "execution_count": 62,
     "metadata": {},
     "output_type": "execute_result"
    }
   ],
   "source": [
    "#predict revenue from energy sales\n",
    "\n",
    "#transform frequency data into EAC response data split between the three services\n",
    "\n",
    "#load data\n",
    "data = pd.read_csv('Data/Frequency/fnew-2024-4.csv')\n",
    "condition_high = (data['f'] >= 50.015)\n",
    "condition_low = (data['f'] <= 49.985)\n",
    "\n",
    "data['DR High %'] = np.minimum(1,condition_high * (data['f']-50.015)/0.1985)\n",
    "data['DR Low %'] = np.minimum(1,condition_low * (50.015-data['f'])/0.1985)\n",
    "\n",
    "data['DM High %'] = data['f'].apply(DM_high)\n",
    "\n",
    "data\n"
   ]
  },
  {
   "cell_type": "code",
   "execution_count": null,
   "metadata": {},
   "outputs": [],
   "source": []
  },
  {
   "cell_type": "code",
   "execution_count": 38,
   "metadata": {},
   "outputs": [
    {
     "data": {
      "text/plain": [
       "<Axes: >"
      ]
     },
     "execution_count": 38,
     "metadata": {},
     "output_type": "execute_result"
    },
    {
     "data": {
      "image/png": "[encoded data removed]",
      "text/plain": [
       "<Figure size 640x480 with 1 Axes>"
      ]
     },
     "metadata": {},
     "output_type": "display_data"
    }
   ],
   "source": [
    "data['DC High %'].plot()"
   ]
  },
  {
   "cell_type": "code",
   "execution_count": null,
   "metadata": {},
   "outputs": [],
   "source": []
  }
 ],
 "metadata": {
  "kernelspec": {
   "display_name": "energy_systems",
   "language": "python",
   "name": "python3"
  },
  "language_info": {
   "codemirror_mode": {
    "name": "ipython",
    "version": 3
   },
   "file_extension": ".py",
   "mimetype": "text/x-python",
   "name": "python",
   "nbconvert_exporter": "python",
   "pygments_lexer": "ipython3",
   "version": "3.12.3"
  },
  "orig_nbformat": 4
 },
 "nbformat": 4,
 "nbformat_minor": 2
}
